{
 "cells": [
  {
   "cell_type": "code",
   "execution_count": 81,
   "metadata": {
    "execution": {
     "iopub.execute_input": "2023-01-17T11:59:54.392914Z",
     "iopub.status.busy": "2023-01-17T11:59:54.391850Z",
     "iopub.status.idle": "2023-01-17T11:59:55.406103Z",
     "shell.execute_reply": "2023-01-17T11:59:55.405120Z",
     "shell.execute_reply.started": "2023-01-17T10:36:09.455131Z"
    },
    "papermill": {
     "duration": 1.068969,
     "end_time": "2023-01-17T11:59:55.406260",
     "exception": false,
     "start_time": "2023-01-17T11:59:54.337291",
     "status": "completed"
    },
    "tags": []
   },
   "outputs": [],
   "source": [
    "# Import the data processing and visualization libraries\n",
    "import pandas as pd\n",
    "import numpy as np\n",
    "import matplotlib.pyplot as plt\n",
    "import seaborn as sns\n",
    "\n",
    "%matplotlib inline"
   ]
  },
  {
   "cell_type": "code",
   "execution_count": 82,
   "metadata": {
    "execution": {
     "iopub.execute_input": "2023-01-17T11:59:55.520110Z",
     "iopub.status.busy": "2023-01-17T11:59:55.519267Z",
     "iopub.status.idle": "2023-01-17T11:59:55.532560Z",
     "shell.execute_reply": "2023-01-17T11:59:55.533175Z",
     "shell.execute_reply.started": "2023-01-17T10:36:10.420778Z"
    },
    "papermill": {
     "duration": 0.077221,
     "end_time": "2023-01-17T11:59:55.533343",
     "exception": false,
     "start_time": "2023-01-17T11:59:55.456122",
     "status": "completed"
    },
    "tags": []
   },
   "outputs": [],
   "source": [
    "# Read the dataset in pandas\n",
    "df_liver = pd.read_csv('liver_disease_dataset.csv')"
   ]
  },
  {
   "cell_type": "code",
   "execution_count": 83,
   "metadata": {
    "execution": {
     "iopub.execute_input": "2023-01-17T11:59:55.636280Z",
     "iopub.status.busy": "2023-01-17T11:59:55.635583Z",
     "iopub.status.idle": "2023-01-17T11:59:55.661575Z",
     "shell.execute_reply": "2023-01-17T11:59:55.662240Z",
     "shell.execute_reply.started": "2023-01-17T10:36:10.441890Z"
    },
    "papermill": {
     "duration": 0.078511,
     "end_time": "2023-01-17T11:59:55.662416",
     "exception": false,
     "start_time": "2023-01-17T11:59:55.583905",
     "status": "completed"
    },
    "tags": []
   },
   "outputs": [
    {
     "data": {
      "text/html": [
       "<div>\n",
       "<style scoped>\n",
       "    .dataframe tbody tr th:only-of-type {\n",
       "        vertical-align: middle;\n",
       "    }\n",
       "\n",
       "    .dataframe tbody tr th {\n",
       "        vertical-align: top;\n",
       "    }\n",
       "\n",
       "    .dataframe thead th {\n",
       "        text-align: right;\n",
       "    }\n",
       "</style>\n",
       "<table border=\"1\" class=\"dataframe\">\n",
       "  <thead>\n",
       "    <tr style=\"text-align: right;\">\n",
       "      <th></th>\n",
       "      <th>Age</th>\n",
       "      <th>Sex</th>\n",
       "      <th>ALT (SGPT)</th>\n",
       "      <th>AST (SGOT)</th>\n",
       "      <th>AST:ALT Ratio</th>\n",
       "      <th>GGTP</th>\n",
       "      <th>ALP</th>\n",
       "      <th>Bilirubin Total</th>\n",
       "      <th>Bilirubin Direct</th>\n",
       "      <th>Bilirubin Indirect</th>\n",
       "      <th>Total Protein</th>\n",
       "      <th>Albumin</th>\n",
       "      <th>A:G Ratio</th>\n",
       "      <th>Condition</th>\n",
       "    </tr>\n",
       "  </thead>\n",
       "  <tbody>\n",
       "    <tr>\n",
       "      <th>0</th>\n",
       "      <td>68</td>\n",
       "      <td>Male</td>\n",
       "      <td>64</td>\n",
       "      <td>54</td>\n",
       "      <td>0.843750</td>\n",
       "      <td>72</td>\n",
       "      <td>265</td>\n",
       "      <td>1.969954</td>\n",
       "      <td>0.727949</td>\n",
       "      <td>1.242005</td>\n",
       "      <td>8.184780</td>\n",
       "      <td>5.697040</td>\n",
       "      <td>2.290038</td>\n",
       "      <td>1</td>\n",
       "    </tr>\n",
       "    <tr>\n",
       "      <th>1</th>\n",
       "      <td>58</td>\n",
       "      <td>Female</td>\n",
       "      <td>164</td>\n",
       "      <td>168</td>\n",
       "      <td>1.024390</td>\n",
       "      <td>152</td>\n",
       "      <td>165</td>\n",
       "      <td>4.149038</td>\n",
       "      <td>1.547862</td>\n",
       "      <td>2.601176</td>\n",
       "      <td>8.139380</td>\n",
       "      <td>4.526538</td>\n",
       "      <td>1.252899</td>\n",
       "      <td>4</td>\n",
       "    </tr>\n",
       "    <tr>\n",
       "      <th>2</th>\n",
       "      <td>44</td>\n",
       "      <td>Female</td>\n",
       "      <td>123</td>\n",
       "      <td>116</td>\n",
       "      <td>0.943089</td>\n",
       "      <td>117</td>\n",
       "      <td>167</td>\n",
       "      <td>0.750356</td>\n",
       "      <td>0.255556</td>\n",
       "      <td>0.494800</td>\n",
       "      <td>7.748071</td>\n",
       "      <td>3.975155</td>\n",
       "      <td>1.053600</td>\n",
       "      <td>3</td>\n",
       "    </tr>\n",
       "    <tr>\n",
       "      <th>3</th>\n",
       "      <td>72</td>\n",
       "      <td>Male</td>\n",
       "      <td>104</td>\n",
       "      <td>113</td>\n",
       "      <td>1.086538</td>\n",
       "      <td>118</td>\n",
       "      <td>63</td>\n",
       "      <td>4.210851</td>\n",
       "      <td>1.210505</td>\n",
       "      <td>3.000346</td>\n",
       "      <td>7.788219</td>\n",
       "      <td>4.697870</td>\n",
       "      <td>1.520170</td>\n",
       "      <td>2</td>\n",
       "    </tr>\n",
       "    <tr>\n",
       "      <th>4</th>\n",
       "      <td>37</td>\n",
       "      <td>Male</td>\n",
       "      <td>153</td>\n",
       "      <td>152</td>\n",
       "      <td>0.993464</td>\n",
       "      <td>137</td>\n",
       "      <td>188</td>\n",
       "      <td>3.269794</td>\n",
       "      <td>1.368103</td>\n",
       "      <td>1.901690</td>\n",
       "      <td>8.193053</td>\n",
       "      <td>4.791327</td>\n",
       "      <td>1.408494</td>\n",
       "      <td>3</td>\n",
       "    </tr>\n",
       "  </tbody>\n",
       "</table>\n",
       "</div>"
      ],
      "text/plain": [
       "   Age     Sex  ALT (SGPT)  AST (SGOT)  AST:ALT Ratio  GGTP  ALP  \\\n",
       "0   68    Male          64          54       0.843750    72  265   \n",
       "1   58  Female         164         168       1.024390   152  165   \n",
       "2   44  Female         123         116       0.943089   117  167   \n",
       "3   72    Male         104         113       1.086538   118   63   \n",
       "4   37    Male         153         152       0.993464   137  188   \n",
       "\n",
       "   Bilirubin Total  Bilirubin Direct  Bilirubin Indirect  Total Protein  \\\n",
       "0         1.969954          0.727949            1.242005       8.184780   \n",
       "1         4.149038          1.547862            2.601176       8.139380   \n",
       "2         0.750356          0.255556            0.494800       7.748071   \n",
       "3         4.210851          1.210505            3.000346       7.788219   \n",
       "4         3.269794          1.368103            1.901690       8.193053   \n",
       "\n",
       "    Albumin  A:G Ratio  Condition  \n",
       "0  5.697040   2.290038          1  \n",
       "1  4.526538   1.252899          4  \n",
       "2  3.975155   1.053600          3  \n",
       "3  4.697870   1.520170          2  \n",
       "4  4.791327   1.408494          3  "
      ]
     },
     "execution_count": 83,
     "metadata": {},
     "output_type": "execute_result"
    }
   ],
   "source": [
    "# Access the first 5 rows of df_liver\n",
    "df_liver.head()"
   ]
  },
  {
   "cell_type": "code",
   "execution_count": 84,
   "metadata": {
    "execution": {
     "iopub.execute_input": "2023-01-17T11:59:55.766136Z",
     "iopub.status.busy": "2023-01-17T11:59:55.765171Z",
     "iopub.status.idle": "2023-01-17T11:59:55.780752Z",
     "shell.execute_reply": "2023-01-17T11:59:55.781452Z",
     "shell.execute_reply.started": "2023-01-17T10:36:10.473982Z"
    },
    "papermill": {
     "duration": 0.06931,
     "end_time": "2023-01-17T11:59:55.781635",
     "exception": false,
     "start_time": "2023-01-17T11:59:55.712325",
     "status": "completed"
    },
    "tags": []
   },
   "outputs": [
    {
     "data": {
      "text/html": [
       "<div>\n",
       "<style scoped>\n",
       "    .dataframe tbody tr th:only-of-type {\n",
       "        vertical-align: middle;\n",
       "    }\n",
       "\n",
       "    .dataframe tbody tr th {\n",
       "        vertical-align: top;\n",
       "    }\n",
       "\n",
       "    .dataframe thead th {\n",
       "        text-align: right;\n",
       "    }\n",
       "</style>\n",
       "<table border=\"1\" class=\"dataframe\">\n",
       "  <thead>\n",
       "    <tr style=\"text-align: right;\">\n",
       "      <th></th>\n",
       "      <th>Age</th>\n",
       "      <th>Sex</th>\n",
       "      <th>ALT (SGPT)</th>\n",
       "      <th>AST (SGOT)</th>\n",
       "      <th>AST:ALT Ratio</th>\n",
       "      <th>GGTP</th>\n",
       "      <th>ALP</th>\n",
       "      <th>Bilirubin Total</th>\n",
       "      <th>Bilirubin Direct</th>\n",
       "      <th>Bilirubin Indirect</th>\n",
       "      <th>Total Protein</th>\n",
       "      <th>Albumin</th>\n",
       "      <th>A:G Ratio</th>\n",
       "      <th>Condition</th>\n",
       "    </tr>\n",
       "  </thead>\n",
       "  <tbody>\n",
       "    <tr>\n",
       "      <th>4995</th>\n",
       "      <td>61</td>\n",
       "      <td>Male</td>\n",
       "      <td>125</td>\n",
       "      <td>122</td>\n",
       "      <td>0.976000</td>\n",
       "      <td>108</td>\n",
       "      <td>83</td>\n",
       "      <td>0.557849</td>\n",
       "      <td>0.239602</td>\n",
       "      <td>0.318247</td>\n",
       "      <td>7.436343</td>\n",
       "      <td>3.919560</td>\n",
       "      <td>1.114527</td>\n",
       "      <td>3</td>\n",
       "    </tr>\n",
       "    <tr>\n",
       "      <th>4996</th>\n",
       "      <td>75</td>\n",
       "      <td>Male</td>\n",
       "      <td>186</td>\n",
       "      <td>186</td>\n",
       "      <td>1.000000</td>\n",
       "      <td>202</td>\n",
       "      <td>86</td>\n",
       "      <td>2.517879</td>\n",
       "      <td>1.487187</td>\n",
       "      <td>1.030692</td>\n",
       "      <td>6.690305</td>\n",
       "      <td>4.415116</td>\n",
       "      <td>1.940540</td>\n",
       "      <td>4</td>\n",
       "    </tr>\n",
       "    <tr>\n",
       "      <th>4997</th>\n",
       "      <td>76</td>\n",
       "      <td>Female</td>\n",
       "      <td>20</td>\n",
       "      <td>10</td>\n",
       "      <td>0.500000</td>\n",
       "      <td>21</td>\n",
       "      <td>91</td>\n",
       "      <td>2.523455</td>\n",
       "      <td>1.621034</td>\n",
       "      <td>0.902421</td>\n",
       "      <td>8.144086</td>\n",
       "      <td>4.824434</td>\n",
       "      <td>1.453290</td>\n",
       "      <td>0</td>\n",
       "    </tr>\n",
       "    <tr>\n",
       "      <th>4998</th>\n",
       "      <td>77</td>\n",
       "      <td>Female</td>\n",
       "      <td>58</td>\n",
       "      <td>57</td>\n",
       "      <td>0.982758</td>\n",
       "      <td>58</td>\n",
       "      <td>242</td>\n",
       "      <td>1.688122</td>\n",
       "      <td>0.668541</td>\n",
       "      <td>1.019581</td>\n",
       "      <td>7.452506</td>\n",
       "      <td>4.807273</td>\n",
       "      <td>1.817328</td>\n",
       "      <td>1</td>\n",
       "    </tr>\n",
       "    <tr>\n",
       "      <th>4999</th>\n",
       "      <td>52</td>\n",
       "      <td>Female</td>\n",
       "      <td>40</td>\n",
       "      <td>30</td>\n",
       "      <td>0.750000</td>\n",
       "      <td>25</td>\n",
       "      <td>237</td>\n",
       "      <td>4.666130</td>\n",
       "      <td>2.347521</td>\n",
       "      <td>2.318609</td>\n",
       "      <td>7.238159</td>\n",
       "      <td>3.642945</td>\n",
       "      <td>1.013273</td>\n",
       "      <td>1</td>\n",
       "    </tr>\n",
       "  </tbody>\n",
       "</table>\n",
       "</div>"
      ],
      "text/plain": [
       "      Age     Sex  ALT (SGPT)  AST (SGOT)  AST:ALT Ratio  GGTP  ALP  \\\n",
       "4995   61    Male         125         122       0.976000   108   83   \n",
       "4996   75    Male         186         186       1.000000   202   86   \n",
       "4997   76  Female          20          10       0.500000    21   91   \n",
       "4998   77  Female          58          57       0.982758    58  242   \n",
       "4999   52  Female          40          30       0.750000    25  237   \n",
       "\n",
       "      Bilirubin Total  Bilirubin Direct  Bilirubin Indirect  Total Protein  \\\n",
       "4995         0.557849          0.239602            0.318247       7.436343   \n",
       "4996         2.517879          1.487187            1.030692       6.690305   \n",
       "4997         2.523455          1.621034            0.902421       8.144086   \n",
       "4998         1.688122          0.668541            1.019581       7.452506   \n",
       "4999         4.666130          2.347521            2.318609       7.238159   \n",
       "\n",
       "       Albumin  A:G Ratio  Condition  \n",
       "4995  3.919560   1.114527          3  \n",
       "4996  4.415116   1.940540          4  \n",
       "4997  4.824434   1.453290          0  \n",
       "4998  4.807273   1.817328          1  \n",
       "4999  3.642945   1.013273          1  "
      ]
     },
     "execution_count": 84,
     "metadata": {},
     "output_type": "execute_result"
    }
   ],
   "source": [
    "# Access the last 5 rows of df_liver\n",
    "df_liver.tail()"
   ]
  },
  {
   "cell_type": "code",
   "execution_count": 85,
   "metadata": {
    "execution": {
     "iopub.execute_input": "2023-01-17T11:59:55.888407Z",
     "iopub.status.busy": "2023-01-17T11:59:55.887597Z",
     "iopub.status.idle": "2023-01-17T11:59:55.892839Z",
     "shell.execute_reply": "2023-01-17T11:59:55.893409Z",
     "shell.execute_reply.started": "2023-01-17T10:36:10.492608Z"
    },
    "papermill": {
     "duration": 0.061474,
     "end_time": "2023-01-17T11:59:55.893587",
     "exception": false,
     "start_time": "2023-01-17T11:59:55.832113",
     "status": "completed"
    },
    "tags": []
   },
   "outputs": [
    {
     "data": {
      "text/plain": [
       "array(['Age', 'Sex', 'ALT (SGPT)', 'AST (SGOT)', 'AST:ALT Ratio', 'GGTP',\n",
       "       'ALP', 'Bilirubin Total', 'Bilirubin Direct', 'Bilirubin Indirect',\n",
       "       'Total Protein', 'Albumin', 'A:G Ratio', 'Condition'], dtype=object)"
      ]
     },
     "execution_count": 85,
     "metadata": {},
     "output_type": "execute_result"
    }
   ],
   "source": [
    "# Retrieve the colunmn information\n",
    "df_liver.columns.values"
   ]
  },
  {
   "cell_type": "code",
   "execution_count": 86,
   "metadata": {
    "execution": {
     "iopub.execute_input": "2023-01-17T11:59:55.996114Z",
     "iopub.status.busy": "2023-01-17T11:59:55.995406Z",
     "iopub.status.idle": "2023-01-17T11:59:56.011343Z",
     "shell.execute_reply": "2023-01-17T11:59:56.010633Z",
     "shell.execute_reply.started": "2023-01-17T10:36:10.501071Z"
    },
    "papermill": {
     "duration": 0.068371,
     "end_time": "2023-01-17T11:59:56.011470",
     "exception": false,
     "start_time": "2023-01-17T11:59:55.943099",
     "status": "completed"
    },
    "tags": []
   },
   "outputs": [
    {
     "name": "stdout",
     "output_type": "stream",
     "text": [
      "<class 'pandas.core.frame.DataFrame'>\n",
      "RangeIndex: 5000 entries, 0 to 4999\n",
      "Data columns (total 14 columns):\n",
      " #   Column              Non-Null Count  Dtype  \n",
      "---  ------              --------------  -----  \n",
      " 0   Age                 5000 non-null   int64  \n",
      " 1   Sex                 5000 non-null   object \n",
      " 2   ALT (SGPT)          5000 non-null   int64  \n",
      " 3   AST (SGOT)          5000 non-null   int64  \n",
      " 4   AST:ALT Ratio       5000 non-null   float64\n",
      " 5   GGTP                5000 non-null   int64  \n",
      " 6   ALP                 5000 non-null   int64  \n",
      " 7   Bilirubin Total     5000 non-null   float64\n",
      " 8   Bilirubin Direct    5000 non-null   float64\n",
      " 9   Bilirubin Indirect  5000 non-null   float64\n",
      " 10  Total Protein       5000 non-null   float64\n",
      " 11  Albumin             5000 non-null   float64\n",
      " 12  A:G Ratio           5000 non-null   float64\n",
      " 13  Condition           5000 non-null   int64  \n",
      "dtypes: float64(7), int64(6), object(1)\n",
      "memory usage: 547.0+ KB\n"
     ]
    }
   ],
   "source": [
    "# Retrieve the full information of df_liver regarding the features and response, in order to verify \n",
    "# if the values are unique or are there any missing data.\n",
    "df_liver.info()"
   ]
  },
  {
   "cell_type": "code",
   "execution_count": 87,
   "metadata": {
    "execution": {
     "iopub.execute_input": "2023-01-17T11:59:56.118126Z",
     "iopub.status.busy": "2023-01-17T11:59:56.117041Z",
     "iopub.status.idle": "2023-01-17T11:59:56.123132Z",
     "shell.execute_reply": "2023-01-17T11:59:56.123692Z",
     "shell.execute_reply.started": "2023-01-17T10:36:10.522042Z"
    },
    "papermill": {
     "duration": 0.062386,
     "end_time": "2023-01-17T11:59:56.123859",
     "exception": false,
     "start_time": "2023-01-17T11:59:56.061473",
     "status": "completed"
    },
    "tags": []
   },
   "outputs": [
    {
     "data": {
      "text/plain": [
       "(5000, 14)"
      ]
     },
     "execution_count": 87,
     "metadata": {},
     "output_type": "execute_result"
    }
   ],
   "source": [
    "# Find the shape of the datframe df_liver\n",
    "df_liver.shape"
   ]
  },
  {
   "cell_type": "code",
   "execution_count": 88,
   "metadata": {
    "execution": {
     "iopub.execute_input": "2023-01-17T11:59:56.329777Z",
     "iopub.status.busy": "2023-01-17T11:59:56.328742Z",
     "iopub.status.idle": "2023-01-17T11:59:56.372383Z",
     "shell.execute_reply": "2023-01-17T11:59:56.371822Z",
     "shell.execute_reply.started": "2023-01-17T10:36:10.534211Z"
    },
    "papermill": {
     "duration": 0.097406,
     "end_time": "2023-01-17T11:59:56.372530",
     "exception": false,
     "start_time": "2023-01-17T11:59:56.275124",
     "status": "completed"
    },
    "tags": []
   },
   "outputs": [
    {
     "data": {
      "text/html": [
       "<div>\n",
       "<style scoped>\n",
       "    .dataframe tbody tr th:only-of-type {\n",
       "        vertical-align: middle;\n",
       "    }\n",
       "\n",
       "    .dataframe tbody tr th {\n",
       "        vertical-align: top;\n",
       "    }\n",
       "\n",
       "    .dataframe thead th {\n",
       "        text-align: right;\n",
       "    }\n",
       "</style>\n",
       "<table border=\"1\" class=\"dataframe\">\n",
       "  <thead>\n",
       "    <tr style=\"text-align: right;\">\n",
       "      <th></th>\n",
       "      <th>Age</th>\n",
       "      <th>ALT (SGPT)</th>\n",
       "      <th>AST (SGOT)</th>\n",
       "      <th>AST:ALT Ratio</th>\n",
       "      <th>GGTP</th>\n",
       "      <th>ALP</th>\n",
       "      <th>Bilirubin Total</th>\n",
       "      <th>Bilirubin Direct</th>\n",
       "      <th>Bilirubin Indirect</th>\n",
       "      <th>Total Protein</th>\n",
       "      <th>Albumin</th>\n",
       "      <th>A:G Ratio</th>\n",
       "      <th>Condition</th>\n",
       "    </tr>\n",
       "  </thead>\n",
       "  <tbody>\n",
       "    <tr>\n",
       "      <th>count</th>\n",
       "      <td>5000.000000</td>\n",
       "      <td>5000.000000</td>\n",
       "      <td>5000.000000</td>\n",
       "      <td>5000.000000</td>\n",
       "      <td>5000.000000</td>\n",
       "      <td>5000.000000</td>\n",
       "      <td>5000.000000</td>\n",
       "      <td>5000.000000</td>\n",
       "      <td>5000.000000</td>\n",
       "      <td>5000.000000</td>\n",
       "      <td>5000.000000</td>\n",
       "      <td>5000.000000</td>\n",
       "      <td>5000.000000</td>\n",
       "    </tr>\n",
       "    <tr>\n",
       "      <th>mean</th>\n",
       "      <td>54.666600</td>\n",
       "      <td>110.338600</td>\n",
       "      <td>110.020200</td>\n",
       "      <td>0.995582</td>\n",
       "      <td>109.213800</td>\n",
       "      <td>173.488200</td>\n",
       "      <td>2.596779</td>\n",
       "      <td>1.306645</td>\n",
       "      <td>1.290134</td>\n",
       "      <td>7.009243</td>\n",
       "      <td>4.198297</td>\n",
       "      <td>1.547820</td>\n",
       "      <td>2.373000</td>\n",
       "    </tr>\n",
       "    <tr>\n",
       "      <th>std</th>\n",
       "      <td>14.384312</td>\n",
       "      <td>51.639245</td>\n",
       "      <td>52.027246</td>\n",
       "      <td>0.088140</td>\n",
       "      <td>53.425527</td>\n",
       "      <td>71.864288</td>\n",
       "      <td>1.390809</td>\n",
       "      <td>0.868958</td>\n",
       "      <td>0.858292</td>\n",
       "      <td>0.861822</td>\n",
       "      <td>0.657532</td>\n",
       "      <td>0.378893</td>\n",
       "      <td>1.281483</td>\n",
       "    </tr>\n",
       "    <tr>\n",
       "      <th>min</th>\n",
       "      <td>30.000000</td>\n",
       "      <td>20.000000</td>\n",
       "      <td>10.000000</td>\n",
       "      <td>0.500000</td>\n",
       "      <td>-5.000000</td>\n",
       "      <td>50.000000</td>\n",
       "      <td>0.200045</td>\n",
       "      <td>0.041407</td>\n",
       "      <td>0.043448</td>\n",
       "      <td>5.500437</td>\n",
       "      <td>2.771719</td>\n",
       "      <td>1.000079</td>\n",
       "      <td>0.000000</td>\n",
       "    </tr>\n",
       "    <tr>\n",
       "      <th>25%</th>\n",
       "      <td>42.000000</td>\n",
       "      <td>65.000000</td>\n",
       "      <td>65.000000</td>\n",
       "      <td>0.951923</td>\n",
       "      <td>64.000000</td>\n",
       "      <td>111.000000</td>\n",
       "      <td>1.389119</td>\n",
       "      <td>0.601172</td>\n",
       "      <td>0.606865</td>\n",
       "      <td>6.273982</td>\n",
       "      <td>3.703848</td>\n",
       "      <td>1.217949</td>\n",
       "      <td>1.000000</td>\n",
       "    </tr>\n",
       "    <tr>\n",
       "      <th>50%</th>\n",
       "      <td>55.000000</td>\n",
       "      <td>111.000000</td>\n",
       "      <td>111.000000</td>\n",
       "      <td>1.000000</td>\n",
       "      <td>110.000000</td>\n",
       "      <td>172.000000</td>\n",
       "      <td>2.577419</td>\n",
       "      <td>1.148267</td>\n",
       "      <td>1.116793</td>\n",
       "      <td>7.024370</td>\n",
       "      <td>4.165442</td>\n",
       "      <td>1.492611</td>\n",
       "      <td>2.000000</td>\n",
       "    </tr>\n",
       "    <tr>\n",
       "      <th>75%</th>\n",
       "      <td>67.000000</td>\n",
       "      <td>155.000000</td>\n",
       "      <td>155.000000</td>\n",
       "      <td>1.041666</td>\n",
       "      <td>154.000000</td>\n",
       "      <td>236.000000</td>\n",
       "      <td>3.812826</td>\n",
       "      <td>1.873529</td>\n",
       "      <td>1.841793</td>\n",
       "      <td>7.753529</td>\n",
       "      <td>4.648466</td>\n",
       "      <td>1.849437</td>\n",
       "      <td>4.000000</td>\n",
       "    </tr>\n",
       "    <tr>\n",
       "      <th>max</th>\n",
       "      <td>79.000000</td>\n",
       "      <td>199.000000</td>\n",
       "      <td>207.000000</td>\n",
       "      <td>1.449999</td>\n",
       "      <td>222.000000</td>\n",
       "      <td>299.000000</td>\n",
       "      <td>4.998535</td>\n",
       "      <td>3.978766</td>\n",
       "      <td>3.898681</td>\n",
       "      <td>8.499922</td>\n",
       "      <td>5.908445</td>\n",
       "      <td>2.333098</td>\n",
       "      <td>4.000000</td>\n",
       "    </tr>\n",
       "  </tbody>\n",
       "</table>\n",
       "</div>"
      ],
      "text/plain": [
       "               Age   ALT (SGPT)   AST (SGOT)  AST:ALT Ratio         GGTP  \\\n",
       "count  5000.000000  5000.000000  5000.000000    5000.000000  5000.000000   \n",
       "mean     54.666600   110.338600   110.020200       0.995582   109.213800   \n",
       "std      14.384312    51.639245    52.027246       0.088140    53.425527   \n",
       "min      30.000000    20.000000    10.000000       0.500000    -5.000000   \n",
       "25%      42.000000    65.000000    65.000000       0.951923    64.000000   \n",
       "50%      55.000000   111.000000   111.000000       1.000000   110.000000   \n",
       "75%      67.000000   155.000000   155.000000       1.041666   154.000000   \n",
       "max      79.000000   199.000000   207.000000       1.449999   222.000000   \n",
       "\n",
       "               ALP  Bilirubin Total  Bilirubin Direct  Bilirubin Indirect  \\\n",
       "count  5000.000000      5000.000000       5000.000000         5000.000000   \n",
       "mean    173.488200         2.596779          1.306645            1.290134   \n",
       "std      71.864288         1.390809          0.868958            0.858292   \n",
       "min      50.000000         0.200045          0.041407            0.043448   \n",
       "25%     111.000000         1.389119          0.601172            0.606865   \n",
       "50%     172.000000         2.577419          1.148267            1.116793   \n",
       "75%     236.000000         3.812826          1.873529            1.841793   \n",
       "max     299.000000         4.998535          3.978766            3.898681   \n",
       "\n",
       "       Total Protein      Albumin    A:G Ratio    Condition  \n",
       "count    5000.000000  5000.000000  5000.000000  5000.000000  \n",
       "mean        7.009243     4.198297     1.547820     2.373000  \n",
       "std         0.861822     0.657532     0.378893     1.281483  \n",
       "min         5.500437     2.771719     1.000079     0.000000  \n",
       "25%         6.273982     3.703848     1.217949     1.000000  \n",
       "50%         7.024370     4.165442     1.492611     2.000000  \n",
       "75%         7.753529     4.648466     1.849437     4.000000  \n",
       "max         8.499922     5.908445     2.333098     4.000000  "
      ]
     },
     "execution_count": 88,
     "metadata": {},
     "output_type": "execute_result"
    }
   ],
   "source": [
    "# We can performing some simple statistical inferences to get a good feel of the data\n",
    "df_liver.describe()"
   ]
  },
  {
   "cell_type": "code",
   "execution_count": 89,
   "metadata": {
    "execution": {
     "iopub.execute_input": "2023-01-17T11:59:56.903168Z",
     "iopub.status.busy": "2023-01-17T11:59:56.902290Z",
     "iopub.status.idle": "2023-01-17T11:59:56.963602Z",
     "shell.execute_reply": "2023-01-17T11:59:56.963022Z",
     "shell.execute_reply.started": "2023-01-17T10:36:10.581078Z"
    },
    "papermill": {
     "duration": 0.118992,
     "end_time": "2023-01-17T11:59:56.963731",
     "exception": false,
     "start_time": "2023-01-17T11:59:56.844739",
     "status": "completed"
    },
    "tags": []
   },
   "outputs": [
    {
     "data": {
      "text/html": [
       "<div>\n",
       "<style scoped>\n",
       "    .dataframe tbody tr th:only-of-type {\n",
       "        vertical-align: middle;\n",
       "    }\n",
       "\n",
       "    .dataframe tbody tr th {\n",
       "        vertical-align: top;\n",
       "    }\n",
       "\n",
       "    .dataframe thead th {\n",
       "        text-align: right;\n",
       "    }\n",
       "</style>\n",
       "<table border=\"1\" class=\"dataframe\">\n",
       "  <thead>\n",
       "    <tr style=\"text-align: right;\">\n",
       "      <th></th>\n",
       "      <th>Age</th>\n",
       "      <th>Sex</th>\n",
       "      <th>ALT (SGPT)</th>\n",
       "      <th>AST (SGOT)</th>\n",
       "      <th>AST:ALT Ratio</th>\n",
       "      <th>GGTP</th>\n",
       "      <th>ALP</th>\n",
       "      <th>Bilirubin Total</th>\n",
       "      <th>Bilirubin Direct</th>\n",
       "      <th>Bilirubin Indirect</th>\n",
       "      <th>Total Protein</th>\n",
       "      <th>Albumin</th>\n",
       "      <th>A:G Ratio</th>\n",
       "      <th>Condition</th>\n",
       "    </tr>\n",
       "  </thead>\n",
       "  <tbody>\n",
       "    <tr>\n",
       "      <th>count</th>\n",
       "      <td>5000.000000</td>\n",
       "      <td>5000</td>\n",
       "      <td>5000.000000</td>\n",
       "      <td>5000.000000</td>\n",
       "      <td>5000.000000</td>\n",
       "      <td>5000.000000</td>\n",
       "      <td>5000.000000</td>\n",
       "      <td>5000.000000</td>\n",
       "      <td>5000.000000</td>\n",
       "      <td>5000.000000</td>\n",
       "      <td>5000.000000</td>\n",
       "      <td>5000.000000</td>\n",
       "      <td>5000.000000</td>\n",
       "      <td>5000.000000</td>\n",
       "    </tr>\n",
       "    <tr>\n",
       "      <th>unique</th>\n",
       "      <td>NaN</td>\n",
       "      <td>2</td>\n",
       "      <td>NaN</td>\n",
       "      <td>NaN</td>\n",
       "      <td>NaN</td>\n",
       "      <td>NaN</td>\n",
       "      <td>NaN</td>\n",
       "      <td>NaN</td>\n",
       "      <td>NaN</td>\n",
       "      <td>NaN</td>\n",
       "      <td>NaN</td>\n",
       "      <td>NaN</td>\n",
       "      <td>NaN</td>\n",
       "      <td>NaN</td>\n",
       "    </tr>\n",
       "    <tr>\n",
       "      <th>top</th>\n",
       "      <td>NaN</td>\n",
       "      <td>Male</td>\n",
       "      <td>NaN</td>\n",
       "      <td>NaN</td>\n",
       "      <td>NaN</td>\n",
       "      <td>NaN</td>\n",
       "      <td>NaN</td>\n",
       "      <td>NaN</td>\n",
       "      <td>NaN</td>\n",
       "      <td>NaN</td>\n",
       "      <td>NaN</td>\n",
       "      <td>NaN</td>\n",
       "      <td>NaN</td>\n",
       "      <td>NaN</td>\n",
       "    </tr>\n",
       "    <tr>\n",
       "      <th>freq</th>\n",
       "      <td>NaN</td>\n",
       "      <td>2502</td>\n",
       "      <td>NaN</td>\n",
       "      <td>NaN</td>\n",
       "      <td>NaN</td>\n",
       "      <td>NaN</td>\n",
       "      <td>NaN</td>\n",
       "      <td>NaN</td>\n",
       "      <td>NaN</td>\n",
       "      <td>NaN</td>\n",
       "      <td>NaN</td>\n",
       "      <td>NaN</td>\n",
       "      <td>NaN</td>\n",
       "      <td>NaN</td>\n",
       "    </tr>\n",
       "    <tr>\n",
       "      <th>mean</th>\n",
       "      <td>54.666600</td>\n",
       "      <td>NaN</td>\n",
       "      <td>110.338600</td>\n",
       "      <td>110.020200</td>\n",
       "      <td>0.995582</td>\n",
       "      <td>109.213800</td>\n",
       "      <td>173.488200</td>\n",
       "      <td>2.596779</td>\n",
       "      <td>1.306645</td>\n",
       "      <td>1.290134</td>\n",
       "      <td>7.009243</td>\n",
       "      <td>4.198297</td>\n",
       "      <td>1.547820</td>\n",
       "      <td>2.373000</td>\n",
       "    </tr>\n",
       "    <tr>\n",
       "      <th>std</th>\n",
       "      <td>14.384312</td>\n",
       "      <td>NaN</td>\n",
       "      <td>51.639245</td>\n",
       "      <td>52.027246</td>\n",
       "      <td>0.088140</td>\n",
       "      <td>53.425527</td>\n",
       "      <td>71.864288</td>\n",
       "      <td>1.390809</td>\n",
       "      <td>0.868958</td>\n",
       "      <td>0.858292</td>\n",
       "      <td>0.861822</td>\n",
       "      <td>0.657532</td>\n",
       "      <td>0.378893</td>\n",
       "      <td>1.281483</td>\n",
       "    </tr>\n",
       "    <tr>\n",
       "      <th>min</th>\n",
       "      <td>30.000000</td>\n",
       "      <td>NaN</td>\n",
       "      <td>20.000000</td>\n",
       "      <td>10.000000</td>\n",
       "      <td>0.500000</td>\n",
       "      <td>-5.000000</td>\n",
       "      <td>50.000000</td>\n",
       "      <td>0.200045</td>\n",
       "      <td>0.041407</td>\n",
       "      <td>0.043448</td>\n",
       "      <td>5.500437</td>\n",
       "      <td>2.771719</td>\n",
       "      <td>1.000079</td>\n",
       "      <td>0.000000</td>\n",
       "    </tr>\n",
       "    <tr>\n",
       "      <th>25%</th>\n",
       "      <td>42.000000</td>\n",
       "      <td>NaN</td>\n",
       "      <td>65.000000</td>\n",
       "      <td>65.000000</td>\n",
       "      <td>0.951923</td>\n",
       "      <td>64.000000</td>\n",
       "      <td>111.000000</td>\n",
       "      <td>1.389119</td>\n",
       "      <td>0.601172</td>\n",
       "      <td>0.606865</td>\n",
       "      <td>6.273982</td>\n",
       "      <td>3.703848</td>\n",
       "      <td>1.217949</td>\n",
       "      <td>1.000000</td>\n",
       "    </tr>\n",
       "    <tr>\n",
       "      <th>50%</th>\n",
       "      <td>55.000000</td>\n",
       "      <td>NaN</td>\n",
       "      <td>111.000000</td>\n",
       "      <td>111.000000</td>\n",
       "      <td>1.000000</td>\n",
       "      <td>110.000000</td>\n",
       "      <td>172.000000</td>\n",
       "      <td>2.577419</td>\n",
       "      <td>1.148267</td>\n",
       "      <td>1.116793</td>\n",
       "      <td>7.024370</td>\n",
       "      <td>4.165442</td>\n",
       "      <td>1.492611</td>\n",
       "      <td>2.000000</td>\n",
       "    </tr>\n",
       "    <tr>\n",
       "      <th>75%</th>\n",
       "      <td>67.000000</td>\n",
       "      <td>NaN</td>\n",
       "      <td>155.000000</td>\n",
       "      <td>155.000000</td>\n",
       "      <td>1.041666</td>\n",
       "      <td>154.000000</td>\n",
       "      <td>236.000000</td>\n",
       "      <td>3.812826</td>\n",
       "      <td>1.873529</td>\n",
       "      <td>1.841793</td>\n",
       "      <td>7.753529</td>\n",
       "      <td>4.648466</td>\n",
       "      <td>1.849437</td>\n",
       "      <td>4.000000</td>\n",
       "    </tr>\n",
       "    <tr>\n",
       "      <th>max</th>\n",
       "      <td>79.000000</td>\n",
       "      <td>NaN</td>\n",
       "      <td>199.000000</td>\n",
       "      <td>207.000000</td>\n",
       "      <td>1.449999</td>\n",
       "      <td>222.000000</td>\n",
       "      <td>299.000000</td>\n",
       "      <td>4.998535</td>\n",
       "      <td>3.978766</td>\n",
       "      <td>3.898681</td>\n",
       "      <td>8.499922</td>\n",
       "      <td>5.908445</td>\n",
       "      <td>2.333098</td>\n",
       "      <td>4.000000</td>\n",
       "    </tr>\n",
       "  </tbody>\n",
       "</table>\n",
       "</div>"
      ],
      "text/plain": [
       "                Age   Sex   ALT (SGPT)   AST (SGOT)  AST:ALT Ratio  \\\n",
       "count   5000.000000  5000  5000.000000  5000.000000    5000.000000   \n",
       "unique          NaN     2          NaN          NaN            NaN   \n",
       "top             NaN  Male          NaN          NaN            NaN   \n",
       "freq            NaN  2502          NaN          NaN            NaN   \n",
       "mean      54.666600   NaN   110.338600   110.020200       0.995582   \n",
       "std       14.384312   NaN    51.639245    52.027246       0.088140   \n",
       "min       30.000000   NaN    20.000000    10.000000       0.500000   \n",
       "25%       42.000000   NaN    65.000000    65.000000       0.951923   \n",
       "50%       55.000000   NaN   111.000000   111.000000       1.000000   \n",
       "75%       67.000000   NaN   155.000000   155.000000       1.041666   \n",
       "max       79.000000   NaN   199.000000   207.000000       1.449999   \n",
       "\n",
       "               GGTP          ALP  Bilirubin Total  Bilirubin Direct  \\\n",
       "count   5000.000000  5000.000000      5000.000000       5000.000000   \n",
       "unique          NaN          NaN              NaN               NaN   \n",
       "top             NaN          NaN              NaN               NaN   \n",
       "freq            NaN          NaN              NaN               NaN   \n",
       "mean     109.213800   173.488200         2.596779          1.306645   \n",
       "std       53.425527    71.864288         1.390809          0.868958   \n",
       "min       -5.000000    50.000000         0.200045          0.041407   \n",
       "25%       64.000000   111.000000         1.389119          0.601172   \n",
       "50%      110.000000   172.000000         2.577419          1.148267   \n",
       "75%      154.000000   236.000000         3.812826          1.873529   \n",
       "max      222.000000   299.000000         4.998535          3.978766   \n",
       "\n",
       "        Bilirubin Indirect  Total Protein      Albumin    A:G Ratio  \\\n",
       "count          5000.000000    5000.000000  5000.000000  5000.000000   \n",
       "unique                 NaN            NaN          NaN          NaN   \n",
       "top                    NaN            NaN          NaN          NaN   \n",
       "freq                   NaN            NaN          NaN          NaN   \n",
       "mean              1.290134       7.009243     4.198297     1.547820   \n",
       "std               0.858292       0.861822     0.657532     0.378893   \n",
       "min               0.043448       5.500437     2.771719     1.000079   \n",
       "25%               0.606865       6.273982     3.703848     1.217949   \n",
       "50%               1.116793       7.024370     4.165442     1.492611   \n",
       "75%               1.841793       7.753529     4.648466     1.849437   \n",
       "max               3.898681       8.499922     5.908445     2.333098   \n",
       "\n",
       "          Condition  \n",
       "count   5000.000000  \n",
       "unique          NaN  \n",
       "top             NaN  \n",
       "freq            NaN  \n",
       "mean       2.373000  \n",
       "std        1.281483  \n",
       "min        0.000000  \n",
       "25%        1.000000  \n",
       "50%        2.000000  \n",
       "75%        4.000000  \n",
       "max        4.000000  "
      ]
     },
     "execution_count": 89,
     "metadata": {},
     "output_type": "execute_result"
    }
   ],
   "source": [
    "# I can quickly perform some additional statistics to include all\n",
    "df_liver.describe(include ='all')"
   ]
  },
  {
   "cell_type": "code",
   "execution_count": 90,
   "metadata": {
    "execution": {
     "iopub.execute_input": "2023-01-17T11:59:57.074523Z",
     "iopub.status.busy": "2023-01-17T11:59:57.073792Z",
     "iopub.status.idle": "2023-01-17T11:59:57.076629Z",
     "shell.execute_reply": "2023-01-17T11:59:57.077180Z",
     "shell.execute_reply.started": "2023-01-17T10:36:10.640248Z"
    },
    "papermill": {
     "duration": 0.06215,
     "end_time": "2023-01-17T11:59:57.077355",
     "exception": false,
     "start_time": "2023-01-17T11:59:57.015205",
     "status": "completed"
    },
    "tags": []
   },
   "outputs": [],
   "source": [
    "# Define a function that allows us to create a table of missing values in df_liver and their percentages in \n",
    "# descending order\n",
    "def missing_values(data):\n",
    "    total = data.isnull().sum().sort_values(ascending=False)\n",
    "    percentage = (data.isnull().sum()/data.isnull().count()).sort_values(ascending=False)\n",
    "    percentage_final = (round(percentage, 2) * 100)\n",
    "    total_percent = pd.concat(objs=[total, percentage_final], axis = 1, keys=['Total', '%'])\n",
    "    return total_percent"
   ]
  },
  {
   "cell_type": "code",
   "execution_count": 91,
   "metadata": {
    "execution": {
     "iopub.execute_input": "2023-01-17T11:59:57.199630Z",
     "iopub.status.busy": "2023-01-17T11:59:57.198893Z",
     "iopub.status.idle": "2023-01-17T11:59:57.214728Z",
     "shell.execute_reply": "2023-01-17T11:59:57.214095Z",
     "shell.execute_reply.started": "2023-01-17T10:36:10.648131Z"
    },
    "papermill": {
     "duration": 0.077145,
     "end_time": "2023-01-17T11:59:57.214863",
     "exception": false,
     "start_time": "2023-01-17T11:59:57.137718",
     "status": "completed"
    },
    "tags": []
   },
   "outputs": [
    {
     "data": {
      "text/html": [
       "<div>\n",
       "<style scoped>\n",
       "    .dataframe tbody tr th:only-of-type {\n",
       "        vertical-align: middle;\n",
       "    }\n",
       "\n",
       "    .dataframe tbody tr th {\n",
       "        vertical-align: top;\n",
       "    }\n",
       "\n",
       "    .dataframe thead th {\n",
       "        text-align: right;\n",
       "    }\n",
       "</style>\n",
       "<table border=\"1\" class=\"dataframe\">\n",
       "  <thead>\n",
       "    <tr style=\"text-align: right;\">\n",
       "      <th></th>\n",
       "      <th>Total</th>\n",
       "      <th>%</th>\n",
       "    </tr>\n",
       "  </thead>\n",
       "  <tbody>\n",
       "    <tr>\n",
       "      <th>Age</th>\n",
       "      <td>0</td>\n",
       "      <td>0.0</td>\n",
       "    </tr>\n",
       "    <tr>\n",
       "      <th>Sex</th>\n",
       "      <td>0</td>\n",
       "      <td>0.0</td>\n",
       "    </tr>\n",
       "    <tr>\n",
       "      <th>ALT (SGPT)</th>\n",
       "      <td>0</td>\n",
       "      <td>0.0</td>\n",
       "    </tr>\n",
       "    <tr>\n",
       "      <th>AST (SGOT)</th>\n",
       "      <td>0</td>\n",
       "      <td>0.0</td>\n",
       "    </tr>\n",
       "    <tr>\n",
       "      <th>AST:ALT Ratio</th>\n",
       "      <td>0</td>\n",
       "      <td>0.0</td>\n",
       "    </tr>\n",
       "    <tr>\n",
       "      <th>GGTP</th>\n",
       "      <td>0</td>\n",
       "      <td>0.0</td>\n",
       "    </tr>\n",
       "    <tr>\n",
       "      <th>ALP</th>\n",
       "      <td>0</td>\n",
       "      <td>0.0</td>\n",
       "    </tr>\n",
       "    <tr>\n",
       "      <th>Bilirubin Total</th>\n",
       "      <td>0</td>\n",
       "      <td>0.0</td>\n",
       "    </tr>\n",
       "    <tr>\n",
       "      <th>Bilirubin Direct</th>\n",
       "      <td>0</td>\n",
       "      <td>0.0</td>\n",
       "    </tr>\n",
       "    <tr>\n",
       "      <th>Bilirubin Indirect</th>\n",
       "      <td>0</td>\n",
       "      <td>0.0</td>\n",
       "    </tr>\n",
       "    <tr>\n",
       "      <th>Total Protein</th>\n",
       "      <td>0</td>\n",
       "      <td>0.0</td>\n",
       "    </tr>\n",
       "    <tr>\n",
       "      <th>Albumin</th>\n",
       "      <td>0</td>\n",
       "      <td>0.0</td>\n",
       "    </tr>\n",
       "    <tr>\n",
       "      <th>A:G Ratio</th>\n",
       "      <td>0</td>\n",
       "      <td>0.0</td>\n",
       "    </tr>\n",
       "    <tr>\n",
       "      <th>Condition</th>\n",
       "      <td>0</td>\n",
       "      <td>0.0</td>\n",
       "    </tr>\n",
       "  </tbody>\n",
       "</table>\n",
       "</div>"
      ],
      "text/plain": [
       "                    Total    %\n",
       "Age                     0  0.0\n",
       "Sex                     0  0.0\n",
       "ALT (SGPT)              0  0.0\n",
       "AST (SGOT)              0  0.0\n",
       "AST:ALT Ratio           0  0.0\n",
       "GGTP                    0  0.0\n",
       "ALP                     0  0.0\n",
       "Bilirubin Total         0  0.0\n",
       "Bilirubin Direct        0  0.0\n",
       "Bilirubin Indirect      0  0.0\n",
       "Total Protein           0  0.0\n",
       "Albumin                 0  0.0\n",
       "A:G Ratio               0  0.0\n",
       "Condition               0  0.0"
      ]
     },
     "execution_count": 91,
     "metadata": {},
     "output_type": "execute_result"
    }
   ],
   "source": [
    "# Find the total count and % of missing values \n",
    "missing_values(df_liver)"
   ]
  },
  {
   "cell_type": "code",
   "execution_count": 92,
   "metadata": {
    "execution": {
     "iopub.execute_input": "2023-01-17T12:00:47.790270Z",
     "iopub.status.busy": "2023-01-17T12:00:47.789555Z",
     "iopub.status.idle": "2023-01-17T12:00:47.806459Z",
     "shell.execute_reply": "2023-01-17T12:00:47.805906Z",
     "shell.execute_reply.started": "2023-01-17T10:36:52.055159Z"
    },
    "papermill": {
     "duration": 0.092648,
     "end_time": "2023-01-17T12:00:47.806606",
     "exception": false,
     "start_time": "2023-01-17T12:00:47.713958",
     "status": "completed"
    },
    "tags": []
   },
   "outputs": [
    {
     "data": {
      "text/html": [
       "<div>\n",
       "<style scoped>\n",
       "    .dataframe tbody tr th:only-of-type {\n",
       "        vertical-align: middle;\n",
       "    }\n",
       "\n",
       "    .dataframe tbody tr th {\n",
       "        vertical-align: top;\n",
       "    }\n",
       "\n",
       "    .dataframe thead th {\n",
       "        text-align: right;\n",
       "    }\n",
       "</style>\n",
       "<table border=\"1\" class=\"dataframe\">\n",
       "  <thead>\n",
       "    <tr style=\"text-align: right;\">\n",
       "      <th></th>\n",
       "      <th>Age</th>\n",
       "      <th>Sex</th>\n",
       "      <th>ALT (SGPT)</th>\n",
       "      <th>AST (SGOT)</th>\n",
       "      <th>AST:ALT Ratio</th>\n",
       "      <th>GGTP</th>\n",
       "      <th>ALP</th>\n",
       "      <th>Bilirubin Total</th>\n",
       "      <th>Bilirubin Direct</th>\n",
       "      <th>Bilirubin Indirect</th>\n",
       "      <th>Total Protein</th>\n",
       "      <th>Albumin</th>\n",
       "      <th>A:G Ratio</th>\n",
       "      <th>Condition</th>\n",
       "    </tr>\n",
       "  </thead>\n",
       "  <tbody>\n",
       "    <tr>\n",
       "      <th>0</th>\n",
       "      <td>68</td>\n",
       "      <td>1</td>\n",
       "      <td>64</td>\n",
       "      <td>54</td>\n",
       "      <td>0.843750</td>\n",
       "      <td>72</td>\n",
       "      <td>265</td>\n",
       "      <td>1.969954</td>\n",
       "      <td>0.727949</td>\n",
       "      <td>1.242005</td>\n",
       "      <td>8.184780</td>\n",
       "      <td>5.697040</td>\n",
       "      <td>2.290038</td>\n",
       "      <td>1</td>\n",
       "    </tr>\n",
       "    <tr>\n",
       "      <th>1</th>\n",
       "      <td>58</td>\n",
       "      <td>0</td>\n",
       "      <td>164</td>\n",
       "      <td>168</td>\n",
       "      <td>1.024390</td>\n",
       "      <td>152</td>\n",
       "      <td>165</td>\n",
       "      <td>4.149038</td>\n",
       "      <td>1.547862</td>\n",
       "      <td>2.601176</td>\n",
       "      <td>8.139380</td>\n",
       "      <td>4.526538</td>\n",
       "      <td>1.252899</td>\n",
       "      <td>4</td>\n",
       "    </tr>\n",
       "    <tr>\n",
       "      <th>2</th>\n",
       "      <td>44</td>\n",
       "      <td>0</td>\n",
       "      <td>123</td>\n",
       "      <td>116</td>\n",
       "      <td>0.943089</td>\n",
       "      <td>117</td>\n",
       "      <td>167</td>\n",
       "      <td>0.750356</td>\n",
       "      <td>0.255556</td>\n",
       "      <td>0.494800</td>\n",
       "      <td>7.748071</td>\n",
       "      <td>3.975155</td>\n",
       "      <td>1.053600</td>\n",
       "      <td>3</td>\n",
       "    </tr>\n",
       "    <tr>\n",
       "      <th>3</th>\n",
       "      <td>72</td>\n",
       "      <td>1</td>\n",
       "      <td>104</td>\n",
       "      <td>113</td>\n",
       "      <td>1.086538</td>\n",
       "      <td>118</td>\n",
       "      <td>63</td>\n",
       "      <td>4.210851</td>\n",
       "      <td>1.210505</td>\n",
       "      <td>3.000346</td>\n",
       "      <td>7.788219</td>\n",
       "      <td>4.697870</td>\n",
       "      <td>1.520170</td>\n",
       "      <td>2</td>\n",
       "    </tr>\n",
       "    <tr>\n",
       "      <th>4</th>\n",
       "      <td>37</td>\n",
       "      <td>1</td>\n",
       "      <td>153</td>\n",
       "      <td>152</td>\n",
       "      <td>0.993464</td>\n",
       "      <td>137</td>\n",
       "      <td>188</td>\n",
       "      <td>3.269794</td>\n",
       "      <td>1.368103</td>\n",
       "      <td>1.901690</td>\n",
       "      <td>8.193053</td>\n",
       "      <td>4.791327</td>\n",
       "      <td>1.408494</td>\n",
       "      <td>3</td>\n",
       "    </tr>\n",
       "  </tbody>\n",
       "</table>\n",
       "</div>"
      ],
      "text/plain": [
       "   Age  Sex  ALT (SGPT)  AST (SGOT)  AST:ALT Ratio  GGTP  ALP  \\\n",
       "0   68    1          64          54       0.843750    72  265   \n",
       "1   58    0         164         168       1.024390   152  165   \n",
       "2   44    0         123         116       0.943089   117  167   \n",
       "3   72    1         104         113       1.086538   118   63   \n",
       "4   37    1         153         152       0.993464   137  188   \n",
       "\n",
       "   Bilirubin Total  Bilirubin Direct  Bilirubin Indirect  Total Protein  \\\n",
       "0         1.969954          0.727949            1.242005       8.184780   \n",
       "1         4.149038          1.547862            2.601176       8.139380   \n",
       "2         0.750356          0.255556            0.494800       7.748071   \n",
       "3         4.210851          1.210505            3.000346       7.788219   \n",
       "4         3.269794          1.368103            1.901690       8.193053   \n",
       "\n",
       "    Albumin  A:G Ratio  Condition  \n",
       "0  5.697040   2.290038          1  \n",
       "1  4.526538   1.252899          4  \n",
       "2  3.975155   1.053600          3  \n",
       "3  4.697870   1.520170          2  \n",
       "4  4.791327   1.408494          3  "
      ]
     },
     "execution_count": 92,
     "metadata": {},
     "output_type": "execute_result"
    }
   ],
   "source": [
    "# Change the current categorical feature Gender to a numerical feature of 0 or 1 (as ML algorithms prefer numerical \n",
    "# features)\n",
    "df_liver['Sex'] = df_liver['Sex'].map({'Male': 1, 'Female': 0})\n",
    "# Check to make sure that the gender has been correctly converted\n",
    "df_liver.head()"
   ]
  },
  {
   "cell_type": "code",
   "execution_count": 95,
   "metadata": {},
   "outputs": [
    {
     "data": {
      "text/plain": [
       "<Axes: xlabel='Condition', ylabel='count'>"
      ]
     },
     "execution_count": 95,
     "metadata": {},
     "output_type": "execute_result"
    },
    {
     "data": {
      "image/png": "[encoded data removed]",
      "text/plain": [
       "<Figure size 640x480 with 1 Axes>"
      ]
     },
     "metadata": {},
     "output_type": "display_data"
    }
   ],
   "source": [
    "#plot the count of the target variable\n",
    "sns.countplot(data = df_liver, x = 'Condition', label='Count')"
   ]
  },
  {
   "cell_type": "code",
   "execution_count": 96,
   "metadata": {},
   "outputs": [
    {
     "data": {
      "text/plain": [
       "4    1286\n",
       "3    1150\n",
       "1    1103\n",
       "2    1084\n",
       "0     377\n",
       "Name: Condition, dtype: int64"
      ]
     },
     "execution_count": 96,
     "metadata": {},
     "output_type": "execute_result"
    }
   ],
   "source": [
    "# Check the distribution of the target variable\n",
    "df_liver['Condition'].value_counts()"
   ]
  },
  {
   "cell_type": "code",
   "execution_count": 97,
   "metadata": {},
   "outputs": [],
   "source": [
    "X= df_liver.drop('Condition', axis=1)\n",
    "y = df_liver['Condition']\n",
    "\n",
    "from sklearn.preprocessing import StandardScaler\n",
    "scaler = StandardScaler()\n",
    "X_scaled = scaler.fit_transform(X)  # Apply to numerical features"
   ]
  },
  {
   "cell_type": "code",
   "execution_count": 98,
   "metadata": {},
   "outputs": [
    {
     "data": {
      "image/png": "[encoded data removed]",
      "text/plain": [
       "<Figure size 640x480 with 2 Axes>"
      ]
     },
     "metadata": {},
     "output_type": "display_data"
    }
   ],
   "source": [
    "import seaborn as sns\n",
    "import matplotlib.pyplot as plt\n",
    "import numpy as np\n",
    "\n",
    "correlation_matrix = np.abs(df_liver.corr())\n",
    "sns.heatmap(correlation_matrix, annot=True, cmap=\"coolwarm\")\n",
    "plt.show()"
   ]
  },
  {
   "cell_type": "code",
   "execution_count": 99,
   "metadata": {},
   "outputs": [],
   "source": [
    "df=df_liver\n",
    "df['Bilirubin_Ratio'] = df['Bilirubin Direct'] / (df['Bilirubin Total'] + 1e-5)"
   ]
  },
  {
   "cell_type": "code",
   "execution_count": 100,
   "metadata": {},
   "outputs": [],
   "source": [
    "df['Age_Group'] = pd.cut(df['Age'], bins=[0, 30, 50, 70, 100], labels=[0, 1, 2, 3])"
   ]
  },
  {
   "cell_type": "code",
   "execution_count": 101,
   "metadata": {},
   "outputs": [],
   "source": [
    "#divide the dataset into training and testing set\n",
    "from sklearn.model_selection import train_test_split\n",
    "X_train, X_test, y_train, y_test = train_test_split(X_scaled, y, test_size=0.2, random_state=42)"
   ]
  },
  {
   "cell_type": "code",
   "execution_count": 102,
   "metadata": {},
   "outputs": [
    {
     "name": "stderr",
     "output_type": "stream",
     "text": [
      "c:\\Users\\saidi\\AppData\\Local\\Programs\\Python\\Python311\\Lib\\site-packages\\sklearn\\linear_model\\_logistic.py:458: ConvergenceWarning: lbfgs failed to converge (status=1):\n",
      "STOP: TOTAL NO. of ITERATIONS REACHED LIMIT.\n",
      "\n",
      "Increase the number of iterations (max_iter) or scale the data as shown in:\n",
      "    https://scikit-learn.org/stable/modules/preprocessing.html\n",
      "Please also refer to the documentation for alternative solver options:\n",
      "    https://scikit-learn.org/stable/modules/linear_model.html#logistic-regression\n",
      "  n_iter_i = _check_optimize_result(\n"
     ]
    },
    {
     "data": {
      "text/html": [
       "<style>#sk-container-id-3 {color: black;background-color: white;}#sk-container-id-3 pre{padding: 0;}#sk-container-id-3 div.sk-toggleable {background-color: white;}#sk-container-id-3 label.sk-toggleable__label {cursor: pointer;display: block;width: 100%;margin-bottom: 0;padding: 0.3em;box-sizing: border-box;text-align: center;}#sk-container-id-3 label.sk-toggleable__label-arrow:before {content: \"▸\";float: left;margin-right: 0.25em;color: #696969;}#sk-container-id-3 label.sk-toggleable__label-arrow:hover:before {color: black;}#sk-container-id-3 div.sk-estimator:hover label.sk-toggleable__label-arrow:before {color: black;}#sk-container-id-3 div.sk-toggleable__content {max-height: 0;max-width: 0;overflow: hidden;text-align: left;background-color: #f0f8ff;}#sk-container-id-3 div.sk-toggleable__content pre {margin: 0.2em;color: black;border-radius: 0.25em;background-color: #f0f8ff;}#sk-container-id-3 input.sk-toggleable__control:checked~div.sk-toggleable__content {max-height: 200px;max-width: 100%;overflow: auto;}#sk-container-id-3 input.sk-toggleable__control:checked~label.sk-toggleable__label-arrow:before {content: \"▾\";}#sk-container-id-3 div.sk-estimator input.sk-toggleable__control:checked~label.sk-toggleable__label {background-color: #d4ebff;}#sk-container-id-3 div.sk-label input.sk-toggleable__control:checked~label.sk-toggleable__label {background-color: #d4ebff;}#sk-container-id-3 input.sk-hidden--visually {border: 0;clip: rect(1px 1px 1px 1px);clip: rect(1px, 1px, 1px, 1px);height: 1px;margin: -1px;overflow: hidden;padding: 0;position: absolute;width: 1px;}#sk-container-id-3 div.sk-estimator {font-family: monospace;background-color: #f0f8ff;border: 1px dotted black;border-radius: 0.25em;box-sizing: border-box;margin-bottom: 0.5em;}#sk-container-id-3 div.sk-estimator:hover {background-color: #d4ebff;}#sk-container-id-3 div.sk-parallel-item::after {content: \"\";width: 100%;border-bottom: 1px solid gray;flex-grow: 1;}#sk-container-id-3 div.sk-label:hover label.sk-toggleable__label {background-color: #d4ebff;}#sk-container-id-3 div.sk-serial::before {content: \"\";position: absolute;border-left: 1px solid gray;box-sizing: border-box;top: 0;bottom: 0;left: 50%;z-index: 0;}#sk-container-id-3 div.sk-serial {display: flex;flex-direction: column;align-items: center;background-color: white;padding-right: 0.2em;padding-left: 0.2em;position: relative;}#sk-container-id-3 div.sk-item {position: relative;z-index: 1;}#sk-container-id-3 div.sk-parallel {display: flex;align-items: stretch;justify-content: center;background-color: white;position: relative;}#sk-container-id-3 div.sk-item::before, #sk-container-id-3 div.sk-parallel-item::before {content: \"\";position: absolute;border-left: 1px solid gray;box-sizing: border-box;top: 0;bottom: 0;left: 50%;z-index: -1;}#sk-container-id-3 div.sk-parallel-item {display: flex;flex-direction: column;z-index: 1;position: relative;background-color: white;}#sk-container-id-3 div.sk-parallel-item:first-child::after {align-self: flex-end;width: 50%;}#sk-container-id-3 div.sk-parallel-item:last-child::after {align-self: flex-start;width: 50%;}#sk-container-id-3 div.sk-parallel-item:only-child::after {width: 0;}#sk-container-id-3 div.sk-dashed-wrapped {border: 1px dashed gray;margin: 0 0.4em 0.5em 0.4em;box-sizing: border-box;padding-bottom: 0.4em;background-color: white;}#sk-container-id-3 div.sk-label label {font-family: monospace;font-weight: bold;display: inline-block;line-height: 1.2em;}#sk-container-id-3 div.sk-label-container {text-align: center;}#sk-container-id-3 div.sk-container {/* jupyter's `normalize.less` sets `[hidden] { display: none; }` but bootstrap.min.css set `[hidden] { display: none !important; }` so we also need the `!important` here to be able to override the default hidden behavior on the sphinx rendered scikit-learn.org. See: https://github.com/scikit-learn/scikit-learn/issues/21755 */display: inline-block !important;position: relative;}#sk-container-id-3 div.sk-text-repr-fallback {display: none;}</style><div id=\"sk-container-id-3\" class=\"sk-top-container\"><div class=\"sk-text-repr-fallback\"><pre>LogisticRegression()</pre><b>In a Jupyter environment, please rerun this cell to show the HTML representation or trust the notebook. <br />On GitHub, the HTML representation is unable to render, please try loading this page with nbviewer.org.</b></div><div class=\"sk-container\" hidden><div class=\"sk-item\"><div class=\"sk-estimator sk-toggleable\"><input class=\"sk-toggleable__control sk-hidden--visually\" id=\"sk-estimator-id-3\" type=\"checkbox\" checked><label for=\"sk-estimator-id-3\" class=\"sk-toggleable__label sk-toggleable__label-arrow\">LogisticRegression</label><div class=\"sk-toggleable__content\"><pre>LogisticRegression()</pre></div></div></div></div></div>"
      ],
      "text/plain": [
       "LogisticRegression()"
      ]
     },
     "execution_count": 102,
     "metadata": {},
     "output_type": "execute_result"
    }
   ],
   "source": [
    "#use the logistic regression model to predict the liver disease\n",
    "from sklearn.linear_model import LogisticRegression\n",
    "log_reg = LogisticRegression()\n",
    "log_reg.fit(X_train, y_train)"
   ]
  },
  {
   "cell_type": "code",
   "execution_count": 103,
   "metadata": {},
   "outputs": [],
   "source": [
    "#predict the target variable\n",
    "y_pred = log_reg.predict(X_test)"
   ]
  },
  {
   "cell_type": "code",
   "execution_count": 104,
   "metadata": {},
   "outputs": [
    {
     "name": "stdout",
     "output_type": "stream",
     "text": [
      "Accuracy: 0.935\n"
     ]
    }
   ],
   "source": [
    "#evaluate the model\n",
    "from sklearn.metrics import accuracy_score\n",
    "accuracy = accuracy_score(y_test, y_pred)\n",
    "print('Accuracy:', accuracy)"
   ]
  },
  {
   "cell_type": "code",
   "execution_count": 105,
   "metadata": {},
   "outputs": [
    {
     "name": "stdout",
     "output_type": "stream",
     "text": [
      "[[ 79   9   0   0   0]\n",
      " [  9 224  11   0   0]\n",
      " [  0   4 200  12   0]\n",
      " [  0   0   7 191   7]\n",
      " [  0   0   0   6 241]]\n"
     ]
    }
   ],
   "source": [
    "#create a confusion matrix\n",
    "from sklearn.metrics import confusion_matrix\n",
    "conf_matrix = confusion_matrix(y_test, y_pred)\n",
    "print(conf_matrix)"
   ]
  },
  {
   "cell_type": "code",
   "execution_count": 106,
   "metadata": {},
   "outputs": [
    {
     "data": {
      "text/plain": [
       "<Axes: >"
      ]
     },
     "execution_count": 106,
     "metadata": {},
     "output_type": "execute_result"
    },
    {
     "data": {
      "image/png": "[encoded data removed]",
      "text/plain": [
       "<Figure size 640x480 with 2 Axes>"
      ]
     },
     "metadata": {},
     "output_type": "display_data"
    }
   ],
   "source": [
    "#visualize the confusion matrix\n",
    "sns.heatmap(conf_matrix, annot=True, cmap=\"coolwarm\")"
   ]
  },
  {
   "cell_type": "code",
   "execution_count": 107,
   "metadata": {},
   "outputs": [
    {
     "name": "stdout",
     "output_type": "stream",
     "text": [
      "              precision    recall  f1-score   support\n",
      "\n",
      "           0       0.90      0.90      0.90        88\n",
      "           1       0.95      0.92      0.93       244\n",
      "           2       0.92      0.93      0.92       216\n",
      "           3       0.91      0.93      0.92       205\n",
      "           4       0.97      0.98      0.97       247\n",
      "\n",
      "    accuracy                           0.94      1000\n",
      "   macro avg       0.93      0.93      0.93      1000\n",
      "weighted avg       0.94      0.94      0.94      1000\n",
      "\n"
     ]
    }
   ],
   "source": [
    "#classification report\n",
    "from sklearn.metrics import classification_report\n",
    "class_report = classification_report(y_test, y_pred)\n",
    "print(class_report)"
   ]
  },
  {
   "cell_type": "code",
   "execution_count": 108,
   "metadata": {},
   "outputs": [
    {
     "data": {
      "text/html": [
       "<style>#sk-container-id-4 {color: black;background-color: white;}#sk-container-id-4 pre{padding: 0;}#sk-container-id-4 div.sk-toggleable {background-color: white;}#sk-container-id-4 label.sk-toggleable__label {cursor: pointer;display: block;width: 100%;margin-bottom: 0;padding: 0.3em;box-sizing: border-box;text-align: center;}#sk-container-id-4 label.sk-toggleable__label-arrow:before {content: \"▸\";float: left;margin-right: 0.25em;color: #696969;}#sk-container-id-4 label.sk-toggleable__label-arrow:hover:before {color: black;}#sk-container-id-4 div.sk-estimator:hover label.sk-toggleable__label-arrow:before {color: black;}#sk-container-id-4 div.sk-toggleable__content {max-height: 0;max-width: 0;overflow: hidden;text-align: left;background-color: #f0f8ff;}#sk-container-id-4 div.sk-toggleable__content pre {margin: 0.2em;color: black;border-radius: 0.25em;background-color: #f0f8ff;}#sk-container-id-4 input.sk-toggleable__control:checked~div.sk-toggleable__content {max-height: 200px;max-width: 100%;overflow: auto;}#sk-container-id-4 input.sk-toggleable__control:checked~label.sk-toggleable__label-arrow:before {content: \"▾\";}#sk-container-id-4 div.sk-estimator input.sk-toggleable__control:checked~label.sk-toggleable__label {background-color: #d4ebff;}#sk-container-id-4 div.sk-label input.sk-toggleable__control:checked~label.sk-toggleable__label {background-color: #d4ebff;}#sk-container-id-4 input.sk-hidden--visually {border: 0;clip: rect(1px 1px 1px 1px);clip: rect(1px, 1px, 1px, 1px);height: 1px;margin: -1px;overflow: hidden;padding: 0;position: absolute;width: 1px;}#sk-container-id-4 div.sk-estimator {font-family: monospace;background-color: #f0f8ff;border: 1px dotted black;border-radius: 0.25em;box-sizing: border-box;margin-bottom: 0.5em;}#sk-container-id-4 div.sk-estimator:hover {background-color: #d4ebff;}#sk-container-id-4 div.sk-parallel-item::after {content: \"\";width: 100%;border-bottom: 1px solid gray;flex-grow: 1;}#sk-container-id-4 div.sk-label:hover label.sk-toggleable__label {background-color: #d4ebff;}#sk-container-id-4 div.sk-serial::before {content: \"\";position: absolute;border-left: 1px solid gray;box-sizing: border-box;top: 0;bottom: 0;left: 50%;z-index: 0;}#sk-container-id-4 div.sk-serial {display: flex;flex-direction: column;align-items: center;background-color: white;padding-right: 0.2em;padding-left: 0.2em;position: relative;}#sk-container-id-4 div.sk-item {position: relative;z-index: 1;}#sk-container-id-4 div.sk-parallel {display: flex;align-items: stretch;justify-content: center;background-color: white;position: relative;}#sk-container-id-4 div.sk-item::before, #sk-container-id-4 div.sk-parallel-item::before {content: \"\";position: absolute;border-left: 1px solid gray;box-sizing: border-box;top: 0;bottom: 0;left: 50%;z-index: -1;}#sk-container-id-4 div.sk-parallel-item {display: flex;flex-direction: column;z-index: 1;position: relative;background-color: white;}#sk-container-id-4 div.sk-parallel-item:first-child::after {align-self: flex-end;width: 50%;}#sk-container-id-4 div.sk-parallel-item:last-child::after {align-self: flex-start;width: 50%;}#sk-container-id-4 div.sk-parallel-item:only-child::after {width: 0;}#sk-container-id-4 div.sk-dashed-wrapped {border: 1px dashed gray;margin: 0 0.4em 0.5em 0.4em;box-sizing: border-box;padding-bottom: 0.4em;background-color: white;}#sk-container-id-4 div.sk-label label {font-family: monospace;font-weight: bold;display: inline-block;line-height: 1.2em;}#sk-container-id-4 div.sk-label-container {text-align: center;}#sk-container-id-4 div.sk-container {/* jupyter's `normalize.less` sets `[hidden] { display: none; }` but bootstrap.min.css set `[hidden] { display: none !important; }` so we also need the `!important` here to be able to override the default hidden behavior on the sphinx rendered scikit-learn.org. See: https://github.com/scikit-learn/scikit-learn/issues/21755 */display: inline-block !important;position: relative;}#sk-container-id-4 div.sk-text-repr-fallback {display: none;}</style><div id=\"sk-container-id-4\" class=\"sk-top-container\"><div class=\"sk-text-repr-fallback\"><pre>RandomForestClassifier()</pre><b>In a Jupyter environment, please rerun this cell to show the HTML representation or trust the notebook. <br />On GitHub, the HTML representation is unable to render, please try loading this page with nbviewer.org.</b></div><div class=\"sk-container\" hidden><div class=\"sk-item\"><div class=\"sk-estimator sk-toggleable\"><input class=\"sk-toggleable__control sk-hidden--visually\" id=\"sk-estimator-id-4\" type=\"checkbox\" checked><label for=\"sk-estimator-id-4\" class=\"sk-toggleable__label sk-toggleable__label-arrow\">RandomForestClassifier</label><div class=\"sk-toggleable__content\"><pre>RandomForestClassifier()</pre></div></div></div></div></div>"
      ],
      "text/plain": [
       "RandomForestClassifier()"
      ]
     },
     "execution_count": 108,
     "metadata": {},
     "output_type": "execute_result"
    }
   ],
   "source": [
    "#use the random forest classifier to predict the liver disease\n",
    "from sklearn.ensemble import RandomForestClassifier\n",
    "rf = RandomForestClassifier()\n",
    "rf.fit(X_train, y_train)"
   ]
  },
  {
   "cell_type": "code",
   "execution_count": 109,
   "metadata": {},
   "outputs": [],
   "source": [
    "#predict the target variable\n",
    "y_pred_rf = rf.predict(X_test)"
   ]
  },
  {
   "cell_type": "code",
   "execution_count": 110,
   "metadata": {},
   "outputs": [
    {
     "name": "stdout",
     "output_type": "stream",
     "text": [
      "Accuracy: 0.992\n"
     ]
    }
   ],
   "source": [
    "#evaluate the model\n",
    "accuracy_rf = accuracy_score(y_test, y_pred_rf)\n",
    "print('Accuracy:', accuracy_rf)"
   ]
  },
  {
   "cell_type": "code",
   "execution_count": 111,
   "metadata": {},
   "outputs": [
    {
     "name": "stdout",
     "output_type": "stream",
     "text": [
      "[[ 87   1   0   0   0]\n",
      " [  0 242   2   0   0]\n",
      " [  0   0 214   2   0]\n",
      " [  0   0   1 202   2]\n",
      " [  0   0   0   0 247]]\n"
     ]
    }
   ],
   "source": [
    "#create a confusion matrix\n",
    "conf_matrix_rf = confusion_matrix(y_test, y_pred_rf)\n",
    "print(conf_matrix_rf)"
   ]
  },
  {
   "cell_type": "code",
   "execution_count": 112,
   "metadata": {},
   "outputs": [
    {
     "data": {
      "text/plain": [
       "<Axes: >"
      ]
     },
     "execution_count": 112,
     "metadata": {},
     "output_type": "execute_result"
    },
    {
     "data": {
      "image/png": "[encoded data removed]",
      "text/plain": [
       "<Figure size 640x480 with 2 Axes>"
      ]
     },
     "metadata": {},
     "output_type": "display_data"
    }
   ],
   "source": [
    "#visualize the confusion matrix\n",
    "sns.heatmap(conf_matrix_rf, annot=True, cmap=\"coolwarm\")"
   ]
  },
  {
   "cell_type": "code",
   "execution_count": 113,
   "metadata": {},
   "outputs": [
    {
     "name": "stdout",
     "output_type": "stream",
     "text": [
      "              precision    recall  f1-score   support\n",
      "\n",
      "           0       1.00      0.99      0.99        88\n",
      "           1       1.00      0.99      0.99       244\n",
      "           2       0.99      0.99      0.99       216\n",
      "           3       0.99      0.99      0.99       205\n",
      "           4       0.99      1.00      1.00       247\n",
      "\n",
      "    accuracy                           0.99      1000\n",
      "   macro avg       0.99      0.99      0.99      1000\n",
      "weighted avg       0.99      0.99      0.99      1000\n",
      "\n"
     ]
    }
   ],
   "source": [
    "#classification report\n",
    "class_report_rf = classification_report(y_test, y_pred_rf)\n",
    "print(class_report_rf)"
   ]
  },
  {
   "cell_type": "code",
   "execution_count": 114,
   "metadata": {},
   "outputs": [
    {
     "name": "stdout",
     "output_type": "stream",
     "text": [
      "Accuracy Logistic Regression: 0.935\n",
      "Accuracy Random Forest: 0.992\n"
     ]
    }
   ],
   "source": [
    "#compare the accuracy of the logistic regression and random forest classifier\n",
    "print('Accuracy Logistic Regression:', accuracy)\n",
    "print('Accuracy Random Forest:', accuracy_rf)"
   ]
  },
  {
   "cell_type": "code",
   "execution_count": 115,
   "metadata": {},
   "outputs": [
    {
     "name": "stdout",
     "output_type": "stream",
     "text": [
      "Classification Report Logistic Regression:               precision    recall  f1-score   support\n",
      "\n",
      "           0       0.90      0.90      0.90        88\n",
      "           1       0.95      0.92      0.93       244\n",
      "           2       0.92      0.93      0.92       216\n",
      "           3       0.91      0.93      0.92       205\n",
      "           4       0.97      0.98      0.97       247\n",
      "\n",
      "    accuracy                           0.94      1000\n",
      "   macro avg       0.93      0.93      0.93      1000\n",
      "weighted avg       0.94      0.94      0.94      1000\n",
      "\n",
      "Classification Report Random Forest:               precision    recall  f1-score   support\n",
      "\n",
      "           0       1.00      0.99      0.99        88\n",
      "           1       1.00      0.99      0.99       244\n",
      "           2       0.99      0.99      0.99       216\n",
      "           3       0.99      0.99      0.99       205\n",
      "           4       0.99      1.00      1.00       247\n",
      "\n",
      "    accuracy                           0.99      1000\n",
      "   macro avg       0.99      0.99      0.99      1000\n",
      "weighted avg       0.99      0.99      0.99      1000\n",
      "\n"
     ]
    }
   ],
   "source": [
    "#compare the classification report of the logistic regression and random forest classifier\n",
    "print('Classification Report Logistic Regression:', class_report)\n",
    "print('Classification Report Random Forest:', class_report_rf)"
   ]
  },
  {
   "cell_type": "code",
   "execution_count": 116,
   "metadata": {},
   "outputs": [
    {
     "data": {
      "image/png": "[encoded data removed]",
      "text/plain": [
       "<Figure size 1200x600 with 1 Axes>"
      ]
     },
     "metadata": {},
     "output_type": "display_data"
    }
   ],
   "source": [
    "#plot the feature importance\n",
    "feature_importance = rf.feature_importances_\n",
    "feature_importance = 100.0 * (feature_importance / feature_importance.max())\n",
    "sorted_idx = np.argsort(feature_importance)\n",
    "pos = np.arange(sorted_idx.shape[0]) + .5\n",
    "plt.figure(figsize=(12, 6))\n",
    "plt.barh(pos, feature_importance[sorted_idx], align='center')\n",
    "plt.yticks(pos, df.columns[sorted_idx])\n",
    "plt.xlabel('Relative Importance')\n",
    "plt.title('Variable Importance')\n",
    "plt.show()"
   ]
  },
  {
   "cell_type": "code",
   "execution_count": 117,
   "metadata": {},
   "outputs": [
    {
     "data": {
      "image/png": "[encoded data removed]",
      "text/plain": [
       "<Figure size 1200x600 with 1 Axes>"
      ]
     },
     "metadata": {},
     "output_type": "display_data"
    }
   ],
   "source": [
    "#comparison plot of the evaluation metrics of accuracy, precision, recall and f1-score\n",
    "from sklearn.metrics import precision_score, recall_score, f1_score\n",
    "precision = precision_score(y_test, y_pred, average='weighted')\n",
    "recall = recall_score(y_test, y_pred, average='weighted')\n",
    "f1 = f1_score(y_test, y_pred, average='weighted')\n",
    "\n",
    "precision_rf = precision_score(y_test, y_pred_rf, average='weighted')\n",
    "recall_rf = recall_score(y_test, y_pred_rf, average='weighted')\n",
    "f1_rf = f1_score(y_test, y_pred_rf, average='weighted')\n",
    "\n",
    "evaluation_metrics = pd.DataFrame({'Logistic Regression': [accuracy, precision, recall, f1],\n",
    "                                    'Random Forest': [accuracy_rf, precision_rf, recall_rf, f1_rf]},\n",
    "                                   index=['Accuracy', 'Precision', 'Recall', 'F1-Score'])\n",
    "evaluation_metrics.plot(kind='bar', figsize=(12, 6))\n",
    "plt.xticks(rotation=0)\n",
    "plt.show()"
   ]
  },
  {
   "cell_type": "code",
   "execution_count": 118,
   "metadata": {},
   "outputs": [],
   "source": [
    "#save the model\n",
    "#import joblib\n",
    "#joblib.dump(rf, 'liver_disease_model.pkl')"
   ]
  }
 ],
 "metadata": {
  "kernelspec": {
   "display_name": "Python 3",
   "language": "python",
   "name": "python3"
  },
  "language_info": {
   "codemirror_mode": {
    "name": "ipython",
    "version": 3
   },
   "file_extension": ".py",
   "mimetype": "text/x-python",
   "name": "python",
   "nbconvert_exporter": "python",
   "pygments_lexer": "ipython3",
   "version": "3.11.4"
  },
  "papermill": {
   "duration": 87.390665,
   "end_time": "2023-01-17T12:01:16.740393",
   "environment_variables": {},
   "exception": null,
   "input_path": "__notebook__.ipynb",
   "output_path": "__notebook__.ipynb",
   "parameters": {},
   "start_time": "2023-01-17T11:59:49.349728",
   "version": "2.1.0"
  }
 },
 "nbformat": 4,
 "nbformat_minor": 4
}
